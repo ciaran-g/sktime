{
 "cells": [
  {
   "cell_type": "markdown",
   "metadata": {},
   "source": [
    "# Update Refit and Evaluate Test\n",
    "\n",
    "- load airlines\n",
    "- define forecaster\n",
    "- wrap in update*\n",
    "- use evaluate\n",
    "- visualise the forecasts as well to check"
   ]
  },
  {
   "cell_type": "code",
   "execution_count": null,
   "metadata": {},
   "outputs": [],
   "source": [
    "from sktime.datasets import load_airline\n",
    "from sktime.utils.plotting import plot_series\n",
    "from sktime.forecasting.naive import NaiveForecaster\n",
    "from sktime.forecasting.stream import (\n",
    "    UpdateEvery,\n",
    "    UpdateRefitsEvery,\n",
    "    DontUpdate\n",
    ")\n",
    "from sktime.forecasting.model_selection import (\n",
    "    ExpandingWindowSplitter,\n",
    "    SlidingWindowSplitter\n",
    ")\n",
    "from sktime.forecasting.model_evaluation import evaluate\n",
    "\n",
    "import numpy as np\n",
    "import pandas as pd\n"
   ]
  },
  {
   "cell_type": "code",
   "execution_count": null,
   "metadata": {},
   "outputs": [],
   "source": [
    "y = load_airline()\n",
    "\n",
    "# plotting for visualization\n",
    "plot_series(y)"
   ]
  },
  {
   "cell_type": "code",
   "execution_count": null,
   "metadata": {},
   "outputs": [],
   "source": [
    "import warnings\n",
    "warnings.filterwarnings(\"ignore\", category=UserWarning)"
   ]
  },
  {
   "cell_type": "markdown",
   "metadata": {},
   "source": [
    "need to change y to period index for this to run"
   ]
  },
  {
   "cell_type": "code",
   "execution_count": null,
   "metadata": {},
   "outputs": [],
   "source": [
    "y = y.reset_index(drop=True)\n",
    "y"
   ]
  },
  {
   "cell_type": "markdown",
   "metadata": {},
   "source": [
    "doesn't seem to work anyway"
   ]
  },
  {
   "cell_type": "markdown",
   "metadata": {},
   "source": [
    "naive forecaster is runs with UpdatEvery\n",
    "\n",
    "- updates every time whilst in evaulate with strategy='update'\n",
    "- it should be running with update_params=False every three intervals"
   ]
  },
  {
   "cell_type": "code",
   "execution_count": null,
   "metadata": {},
   "outputs": [],
   "source": [
    "mod = NaiveForecaster()\n",
    "# up_mod = UpdateEvery(mod, update_interval=pd.Timedelta(31, \"D\"))\n",
    "up_mod = UpdateEvery(mod, update_interval=3)\n",
    "fh = np.arange(1, 7)\n",
    "cv = ExpandingWindowSplitter(fh=fh, initial_window=12, step_length=1)\n",
    "# cv = SlidingWindowSplitter(fh=fh, window_length=12, step_length=1)\n",
    "\n",
    "df = evaluate(\n",
    "    forecaster=up_mod,\n",
    "    y=y,\n",
    "    cv=cv,\n",
    "    strategy=\"update\",\n",
    "    return_data=True,\n",
    "    error_score='raise'\n",
    ")\n",
    "\n",
    "\n",
    "fig, ax = plot_series(\n",
    "    y.iloc[1:20],\n",
    "    df[\"y_pred\"].iloc[0],\n",
    "    df[\"y_pred\"].iloc[1],\n",
    "    df[\"y_pred\"].iloc[2],\n",
    "    df[\"y_pred\"].iloc[3],\n",
    "    df[\"y_pred\"].iloc[4],\n",
    "    df[\"y_pred\"].iloc[5],\n",
    "    markers=[\"o\", \"\", \"\", \"\", \"\", \"\", \"\"],\n",
    "    labels=[\"y_true\"] + [\"y_pred (Backtest \" + str(x) + \")\" for x in range(6)],\n",
    ")\n",
    "ax.legend()\n"
   ]
  },
  {
   "cell_type": "markdown",
   "metadata": {},
   "source": [
    "Trying to use naive forecaster with UpdateRefitsEvery\n",
    "\n",
    "- raises a bug here"
   ]
  },
  {
   "cell_type": "code",
   "execution_count": null,
   "metadata": {},
   "outputs": [],
   "source": [
    "mod = NaiveForecaster()\n",
    "# up_mod = UpdateEvery(mod, update_interval=pd.Timedelta(31, \"D\"))\n",
    "up_mod = UpdateRefitsEvery(mod, refit_interval=3)\n",
    "fh = np.arange(1, 7)\n",
    "cv = ExpandingWindowSplitter(fh=fh, initial_window=12, step_length=1)\n",
    "\n",
    "df = evaluate(\n",
    "    forecaster=up_mod,\n",
    "    y=y,\n",
    "    cv=cv,\n",
    "    strategy=\"update\",\n",
    "    return_data=True,\n",
    "    error_score='raise'\n",
    ")\n",
    "\n",
    "\n",
    "fig, ax = plot_series(\n",
    "    y.iloc[1:20],\n",
    "    df[\"y_pred\"].iloc[0],\n",
    "    df[\"y_pred\"].iloc[1],\n",
    "    df[\"y_pred\"].iloc[2],\n",
    "    df[\"y_pred\"].iloc[3],\n",
    "    df[\"y_pred\"].iloc[4],\n",
    "    df[\"y_pred\"].iloc[5],\n",
    "    markers=[\"o\", \"\", \"\", \"\", \"\", \"\", \"\"],\n",
    "    labels=[\"y_true\"] + [\"y_pred (Backtest \" + str(x) + \")\" for x in range(6)],\n",
    ")\n",
    "ax.legend()"
   ]
  },
  {
   "cell_type": "markdown",
   "metadata": {},
   "source": [
    "let's try with an ARIMA model"
   ]
  },
  {
   "cell_type": "code",
   "execution_count": null,
   "metadata": {},
   "outputs": [],
   "source": [
    "from sktime.forecasting.arima import ARIMA"
   ]
  },
  {
   "cell_type": "markdown",
   "metadata": {},
   "source": [
    "- this seems to run as expected\n",
    "- the model is only updated with the most recent data every three intervals"
   ]
  },
  {
   "cell_type": "code",
   "execution_count": null,
   "metadata": {},
   "outputs": [],
   "source": [
    "mod = ARIMA(order=(1,0,0))\n",
    "up_mod = UpdateEvery(mod, update_interval=3)\n",
    "fh = np.arange(1, 7)\n",
    "cv = ExpandingWindowSplitter(fh=fh, initial_window=12, step_length=1)\n",
    "\n",
    "df = evaluate(\n",
    "    forecaster=up_mod,\n",
    "    y=y,\n",
    "    cv=cv,\n",
    "    strategy=\"update\",\n",
    "    return_data=True,\n",
    "    error_score='raise'\n",
    ")\n",
    "\n",
    "\n",
    "fig, ax = plot_series(\n",
    "    y.iloc[1:20],\n",
    "    df[\"y_pred\"].iloc[0],\n",
    "    df[\"y_pred\"].iloc[1],\n",
    "    df[\"y_pred\"].iloc[2],\n",
    "    df[\"y_pred\"].iloc[3],\n",
    "    df[\"y_pred\"].iloc[4],\n",
    "    df[\"y_pred\"].iloc[5],\n",
    "    markers=[\"o\", \"\", \"\", \"\", \"\", \"\", \"\"],\n",
    "    labels=[\"y_true\"] + [\"y_pred (Backtest \" + str(x) + \")\" for x in range(6)],\n",
    ")\n",
    "ax.legend()\n"
   ]
  },
  {
   "cell_type": "markdown",
   "metadata": {},
   "source": [
    "Now with the UpdateRefitsEvery\n",
    "\n",
    "- not working as expectd, even with bugfixes in the source code of UpdateRefitsEvery"
   ]
  },
  {
   "cell_type": "code",
   "execution_count": null,
   "metadata": {},
   "outputs": [],
   "source": [
    "mod = ARIMA(order=(1,0,0))\n",
    "up_mod = UpdateRefitsEvery(mod, refit_interval=3)\n",
    "fh = np.arange(1, 7)\n",
    "cv = ExpandingWindowSplitter(fh=fh, initial_window=12, step_length=1)\n",
    "\n",
    "df = evaluate(\n",
    "    forecaster=up_mod,\n",
    "    y=y,\n",
    "    cv=cv,\n",
    "    strategy=\"update\",\n",
    "    return_data=True,\n",
    "    error_score='raise'\n",
    ")\n",
    "\n",
    "\n",
    "fig, ax = plot_series(\n",
    "    y.iloc[1:20],\n",
    "    df[\"y_pred\"].iloc[0],\n",
    "    df[\"y_pred\"].iloc[1],\n",
    "    df[\"y_pred\"].iloc[2],\n",
    "    df[\"y_pred\"].iloc[3],\n",
    "    df[\"y_pred\"].iloc[4],\n",
    "    df[\"y_pred\"].iloc[5],\n",
    "    markers=[\"o\", \"\", \"\", \"\", \"\", \"\", \"\"],\n",
    "    labels=[\"y_true\"] + [\"y_pred (Backtest \" + str(x) + \")\" for x in range(6)],\n",
    ")\n",
    "ax.legend()\n"
   ]
  },
  {
   "cell_type": "markdown",
   "metadata": {},
   "source": [
    "- coefficients are being updated correctly with the bugfix\n",
    "- but the data/predictions aren't moving forward in time"
   ]
  },
  {
   "cell_type": "code",
   "execution_count": null,
   "metadata": {},
   "outputs": [],
   "source": [
    "mod = ARIMA(order=(1,0,0))\n",
    "up_mod = UpdateRefitsEvery(mod, refit_interval=3)\n",
    "# up_mod = mod\n",
    "fh = np.arange(1, 7)\n",
    "cv = ExpandingWindowSplitter(fh=fh, initial_window=12, step_length=1)\n",
    "\n",
    "cv = list(cv.split(y))\n",
    "for i in range(len(cv)):\n",
    "    \n",
    "    if not up_mod.is_fitted:\n",
    "        indx_train = cv[i][0]\n",
    "        y_train = y.iloc[indx_train].copy()\n",
    "        up_mod.fit(y_train)\n",
    "    else:\n",
    "        indx_train = np.setxor1d(cv[i][0], cv[i-1][0])\n",
    "        # todo: update params every X iters\n",
    "        y_new = y.iloc[indx_train].copy()\n",
    "        up_mod.update(\n",
    "            y_new,\n",
    "            update_params=False\n",
    "        )\n",
    "\n",
    "    print(up_mod.cutoff)\n",
    "    print(up_mod.predict(fh=fh[0]))\n",
    "    print(up_mod.forecaster_.get_fitted_params())\n",
    "    # print(up_mod.get_fitted_params())"
   ]
  },
  {
   "cell_type": "markdown",
   "metadata": {},
   "source": [
    "- update doesn't even work as expected"
   ]
  },
  {
   "cell_type": "code",
   "execution_count": null,
   "metadata": {},
   "outputs": [],
   "source": [
    "mod = ARIMA(order=(1,0,0))\n",
    "fh = np.arange(1, 7)\n",
    "cv = ExpandingWindowSplitter(fh=fh, initial_window=12, step_length=1)\n",
    "\n",
    "cv = list(cv.split(y))\n",
    "for i in range(len(cv)):\n",
    "    \n",
    "    if not mod.is_fitted:\n",
    "        indx_train = cv[i][0]\n",
    "        y_train = y.iloc[indx_train].copy()\n",
    "        mod.fit(y_train)\n",
    "    else:\n",
    "        indx_train = np.setxor1d(cv[i][0], cv[i-1][0])\n",
    "        # todo: update params every X iters\n",
    "        y_new = y.iloc[indx_train].copy()\n",
    "        mod.update(\n",
    "            y_new,\n",
    "            update_params=True,\n",
    "            maxiter=0\n",
    "        )\n",
    "\n",
    "    print(mod.cutoff)\n",
    "    print(mod.predict(fh=fh[0:2]))"
   ]
  },
  {
   "cell_type": "code",
   "execution_count": null,
   "metadata": {},
   "outputs": [],
   "source": []
  }
 ],
 "metadata": {
  "kernelspec": {
   "display_name": "Python 3.8.12 ('sktime-dev')",
   "language": "python",
   "name": "python3"
  },
  "language_info": {
   "codemirror_mode": {
    "name": "ipython",
    "version": 3
   },
   "file_extension": ".py",
   "mimetype": "text/x-python",
   "name": "python",
   "nbconvert_exporter": "python",
   "pygments_lexer": "ipython3",
   "version": "3.8.12"
  },
  "orig_nbformat": 4,
  "vscode": {
   "interpreter": {
    "hash": "e9145ac77f526b29f92167e717129b9fbcf33a276bdc12cb061a32eba5355a71"
   }
  }
 },
 "nbformat": 4,
 "nbformat_minor": 2
}
