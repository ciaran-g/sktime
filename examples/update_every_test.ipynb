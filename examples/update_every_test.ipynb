{
 "cells": [
  {
   "cell_type": "markdown",
   "metadata": {},
   "source": [
    "# Update Refit and Evaluate Test\n",
    "\n",
    "- load airlines\n",
    "- define forecaster\n",
    "- wrap in update*\n",
    "- use evaluate\n",
    "- visualise the forecasts as well to check"
   ]
  },
  {
   "cell_type": "markdown",
   "metadata": {},
   "source": [
    "from sktime.datasets load"
   ]
  },
  {
   "cell_type": "code",
   "execution_count": null,
   "metadata": {},
   "outputs": [],
   "source": [
    "from sktime.datasets import load_airline\n",
    "from sktime.utils.plotting import plot_series\n",
    "from sktime.forecasting.naive import NaiveForecaster\n",
    "from sktime.forecasting.stream import (\n",
    "    UpdateEvery,\n",
    "    UpdateRefitsEvery,\n",
    "    DontUpdate\n",
    ")\n",
    "from sktime.forecasting.model_selection import (\n",
    "    ExpandingWindowSplitter,\n",
    "    SlidingWindowSplitter\n",
    ")\n",
    "from sktime.forecasting.model_evaluation import evaluate\n",
    "\n",
    "import numpy as np\n",
    "import pandas as pd\n"
   ]
  },
  {
   "cell_type": "code",
   "execution_count": null,
   "metadata": {},
   "outputs": [],
   "source": [
    "y = load_airline()\n",
    "\n",
    "# plotting for visualization\n",
    "plot_series(y)"
   ]
  },
  {
   "cell_type": "code",
   "execution_count": null,
   "metadata": {},
   "outputs": [],
   "source": [
    "import warnings\n",
    "warnings.filterwarnings(\"ignore\", category=UserWarning)"
   ]
  },
  {
   "cell_type": "markdown",
   "metadata": {},
   "source": [
    "need to change y to period index for this to run"
   ]
  },
  {
   "cell_type": "code",
   "execution_count": null,
   "metadata": {},
   "outputs": [],
   "source": [
    "y = y.reset_index(drop=True)\n",
    "y"
   ]
  },
  {
   "cell_type": "markdown",
   "metadata": {},
   "source": [
    "doesn't seem to work anyway"
   ]
  },
  {
   "cell_type": "markdown",
   "metadata": {},
   "source": [
    "naive forecaster is runs with updateevery, but updates every time whilst in evaulate with strategy='update'. Warning tells us that this is expected."
   ]
  },
  {
   "cell_type": "code",
   "execution_count": null,
   "metadata": {},
   "outputs": [],
   "source": [
    "mod = NaiveForecaster()\n",
    "# up_mod = UpdateEvery(mod, update_interval=pd.Timedelta(31, \"D\"))\n",
    "up_mod = UpdateEvery(mod, update_interval=3)\n",
    "fh = np.arange(1, 7)\n",
    "cv = ExpandingWindowSplitter(fh=fh, initial_window=12, step_length=1)\n",
    "# cv = SlidingWindowSplitter(fh=fh, window_length=12, step_length=1)\n",
    "\n",
    "df = evaluate(\n",
    "    forecaster=up_mod,\n",
    "    y=y,\n",
    "    cv=cv,\n",
    "    strategy=\"update\",\n",
    "    return_data=True,\n",
    "    error_score='raise'\n",
    ")\n",
    "\n",
    "\n",
    "fig, ax = plot_series(\n",
    "    y.iloc[1:20],\n",
    "    df[\"y_pred\"].iloc[0],\n",
    "    df[\"y_pred\"].iloc[1],\n",
    "    df[\"y_pred\"].iloc[2],\n",
    "    df[\"y_pred\"].iloc[3],\n",
    "    df[\"y_pred\"].iloc[4],\n",
    "    df[\"y_pred\"].iloc[5],\n",
    "    markers=[\"o\", \"\", \"\", \"\", \"\", \"\", \"\"],\n",
    "    labels=[\"y_true\"] + [\"y_pred (Backtest \" + str(x) + \")\" for x in range(6)],\n",
    ")\n",
    "ax.legend()\n"
   ]
  },
  {
   "cell_type": "markdown",
   "metadata": {},
   "source": [
    "Trying to use naive forecaster with UpdateRefitsEvery"
   ]
  },
  {
   "cell_type": "code",
   "execution_count": null,
   "metadata": {},
   "outputs": [],
   "source": [
    "mod = NaiveForecaster()\n",
    "# up_mod = UpdateEvery(mod, update_interval=pd.Timedelta(31, \"D\"))\n",
    "up_mod = UpdateRefitsEvery(mod, refit_interval=3)\n",
    "fh = np.arange(1, 7)\n",
    "cv = ExpandingWindowSplitter(fh=fh, initial_window=12, step_length=1)\n",
    "# cv = SlidingWindowSplitter(fh=fh, window_length=12, step_length=1)\n",
    "\n",
    "df = evaluate(\n",
    "    forecaster=up_mod,\n",
    "    y=y,\n",
    "    cv=cv,\n",
    "    #strategy=\"update\",\n",
    "    return_data=True,\n",
    "    error_score='raise'\n",
    ")\n",
    "\n",
    "\n",
    "fig, ax = plot_series(\n",
    "    y.iloc[1:20],\n",
    "    df[\"y_pred\"].iloc[0],\n",
    "    df[\"y_pred\"].iloc[1],\n",
    "    df[\"y_pred\"].iloc[2],\n",
    "    df[\"y_pred\"].iloc[3],\n",
    "    df[\"y_pred\"].iloc[4],\n",
    "    df[\"y_pred\"].iloc[5],\n",
    "    markers=[\"o\", \"\", \"\", \"\", \"\", \"\", \"\"],\n",
    "    labels=[\"y_true\"] + [\"y_pred (Backtest \" + str(x) + \")\" for x in range(6)],\n",
    ")\n",
    "ax.legend()"
   ]
  },
  {
   "cell_type": "code",
   "execution_count": null,
   "metadata": {},
   "outputs": [],
   "source": [
    "from sktime.forecasting.arima import ARIMA"
   ]
  },
  {
   "cell_type": "code",
   "execution_count": null,
   "metadata": {},
   "outputs": [],
   "source": [
    "mod = ARIMA(order=(1,0,0))\n",
    "# up_mod = UpdateEvery(mod, update_interval=pd.Timedelta(31, \"D\"))\n",
    "up_mod = UpdateEvery(mod, update_interval=3)\n",
    "fh = np.arange(1, 7)\n",
    "cv = ExpandingWindowSplitter(fh=fh, initial_window=12, step_length=1)\n",
    "# cv = SlidingWindowSplitter(fh=fh, window_length=12, step_length=1)\n",
    "\n",
    "df = evaluate(\n",
    "    forecaster=up_mod,\n",
    "    y=y,\n",
    "    cv=cv,\n",
    "    strategy=\"update\",\n",
    "    return_data=True,\n",
    "    error_score='raise'\n",
    ")\n",
    "\n",
    "\n",
    "fig, ax = plot_series(\n",
    "    y.iloc[1:20],\n",
    "    df[\"y_pred\"].iloc[0],\n",
    "    df[\"y_pred\"].iloc[1],\n",
    "    df[\"y_pred\"].iloc[2],\n",
    "    df[\"y_pred\"].iloc[3],\n",
    "    df[\"y_pred\"].iloc[4],\n",
    "    df[\"y_pred\"].iloc[5],\n",
    "    markers=[\"o\", \"\", \"\", \"\", \"\", \"\", \"\"],\n",
    "    labels=[\"y_true\"] + [\"y_pred (Backtest \" + str(x) + \")\" for x in range(6)],\n",
    ")\n",
    "ax.legend()\n"
   ]
  },
  {
   "cell_type": "code",
   "execution_count": null,
   "metadata": {},
   "outputs": [],
   "source": [
    "mod = ARIMA(order=(1,0,0))\n",
    "# up_mod = UpdateEvery(mod, update_interval=pd.Timedelta(31, \"D\"))\n",
    "up_mod = UpdateRefitsEvery(mod)\n",
    "fh = np.arange(1, 7)\n",
    "cv = ExpandingWindowSplitter(fh=fh, initial_window=12, step_length=1)\n",
    "# cv = SlidingWindowSplitter(fh=fh, window_length=12, step_length=1)\n",
    "\n",
    "df = evaluate(\n",
    "    forecaster=up_mod,\n",
    "    y=y,\n",
    "    cv=cv,\n",
    "    #strategy=\"update\",\n",
    "    return_data=True,\n",
    "    error_score='raise'\n",
    ")\n",
    "\n",
    "\n",
    "fig, ax = plot_series(\n",
    "    y.iloc[1:20],\n",
    "    df[\"y_pred\"].iloc[0],\n",
    "    df[\"y_pred\"].iloc[1],\n",
    "    df[\"y_pred\"].iloc[2],\n",
    "    df[\"y_pred\"].iloc[3],\n",
    "    df[\"y_pred\"].iloc[4],\n",
    "    df[\"y_pred\"].iloc[5],\n",
    "    markers=[\"o\", \"\", \"\", \"\", \"\", \"\", \"\"],\n",
    "    labels=[\"y_true\"] + [\"y_pred (Backtest \" + str(x) + \")\" for x in range(6)],\n",
    ")\n",
    "ax.legend()\n"
   ]
  },
  {
   "cell_type": "code",
   "execution_count": null,
   "metadata": {},
   "outputs": [],
   "source": [
    "mod = ARIMA(order=(1,0,0))\n",
    "# up_mod = UpdateEvery(mod, update_interval=pd.Timedelta(31, \"D\"))\n",
    "up_mod = UpdateRefitsEvery(mod, refit_interval=3)\n",
    "fh = np.arange(1, 7)\n",
    "cv = ExpandingWindowSplitter(fh=fh, initial_window=12, step_length=1)\n",
    "# cv = SlidingWindowSplitter(fh=fh, window_length=12, step_length=1)\n",
    "\n",
    "cv = list(cv.split(y))\n",
    "for i in range(len(cv)):\n",
    "    \n",
    "    if not up_mod.is_fitted:\n",
    "        indx_train = cv[i][0]\n",
    "        y_train = y.iloc[indx_train].copy()\n",
    "        up_mod.fit(y_train)\n",
    "    else:\n",
    "        indx_train = np.setxor1d(cv[i][0], cv[i-1][0])\n",
    "        # todo: update params every X iters\n",
    "        y_new = y.iloc[indx_train].copy()\n",
    "        up_mod.update(\n",
    "            y_new,\n",
    "        )\n",
    "\n",
    "    print(up_mod.forecaster_.get_fitted_params())"
   ]
  },
  {
   "cell_type": "code",
   "execution_count": null,
   "metadata": {},
   "outputs": [],
   "source": [
    "cv[2]"
   ]
  },
  {
   "cell_type": "code",
   "execution_count": null,
   "metadata": {},
   "outputs": [],
   "source": []
  },
  {
   "cell_type": "code",
   "execution_count": null,
   "metadata": {},
   "outputs": [],
   "source": []
  },
  {
   "cell_type": "code",
   "execution_count": null,
   "metadata": {},
   "outputs": [],
   "source": []
  },
  {
   "cell_type": "code",
   "execution_count": null,
   "metadata": {},
   "outputs": [],
   "source": []
  },
  {
   "cell_type": "code",
   "execution_count": null,
   "metadata": {},
   "outputs": [],
   "source": []
  },
  {
   "cell_type": "code",
   "execution_count": null,
   "metadata": {},
   "outputs": [],
   "source": []
  },
  {
   "cell_type": "markdown",
   "metadata": {},
   "source": [
    "Ok that doesn't seem to be working\n",
    "\n",
    "    - let's try in a loop type evaluation\n",
    "    - the problem is the datetime index!"
   ]
  },
  {
   "cell_type": "code",
   "execution_count": null,
   "metadata": {},
   "outputs": [],
   "source": [
    "ok"
   ]
  },
  {
   "cell_type": "code",
   "execution_count": null,
   "metadata": {},
   "outputs": [],
   "source": [
    "mod = NaiveForecaster()\n",
    "\n",
    "# forecaster = UpdateRefitsEvery(mod, refit_interval=3)\n",
    "\n",
    "# forecaster = UpdateEvery(mod, update_interval=3)\n",
    "# forecaster = UpdateEvery(mod, update_interval=pd.Timedelta(31, \"D\"))\n",
    "# forecaster = UpdateEvery(mod, update_interval=pd.DateOffset(months=3))\n",
    "\n",
    "forecaster = UpdateEvery(mod, update_interval=None)\n",
    "\n",
    "fh = np.arange(1, 7)\n",
    "cv = ExpandingWindowSplitter(fh=fh, initial_window=12, step_length=1)\n",
    "splits = list(cv.split(y))\n",
    "\n",
    "y_pred = list()\n",
    "\n",
    "for i in range(len(splits)):\n",
    "\n",
    "    if not forecaster.is_fitted:\n",
    "        indx_train = splits[i][0]\n",
    "        forecaster.fit(y.iloc[indx_train])\n",
    "    else:\n",
    "        indx_train = np.setxor1d(splits[i][0], splits[i-1][0])\n",
    "        # todo: update params every X iters\n",
    "        forecaster.update(\n",
    "            y.iloc[indx_train],\n",
    "            update_params=True\n",
    "        )\n",
    "    # get target and issue times\n",
    "    # fh_loop = splits[i][1]\n",
    "    # fh_loop = y.iloc[fh_loop].index\n",
    "    # print(fh_loop)\n",
    "\n",
    "    # issue forecast\n",
    "    tmp = forecaster.predict(fh=fh).rename('y_pred').to_frame()\n",
    "    tmp.index.name = 'target_time'\n",
    "    tmp['issue_time'] =  forecaster.cutoff\n",
    "\n",
    "    y_pred.append(tmp)\n",
    "\n",
    "y_pred = pd.concat(y_pred)\n",
    "y_pred = y_pred.reset_index().set_index(['issue_time', 'target_time'])\n",
    "y_pred\n",
    "\n",
    "\n"
   ]
  },
  {
   "cell_type": "code",
   "execution_count": null,
   "metadata": {},
   "outputs": [],
   "source": []
  },
  {
   "cell_type": "code",
   "execution_count": null,
   "metadata": {},
   "outputs": [],
   "source": [
    "mod = NaiveForecaster()\n",
    "\n",
    "forecaster = UpdateEvery(mod, update_interval=3)\n",
    "\n",
    "fh = np.arange(1, 7)\n",
    "cv = ExpandingWindowSplitter(fh=fh, initial_window=12, step_length=1)\n",
    "\n",
    "\n",
    "forecaster.fit(y=y.iloc[0:12])\n",
    "\n",
    "preds = forecaster.update_predict(\n",
    "    y=y,\n",
    "    cv=cv, \n",
    ").melt(ignore_index=False).dropna()\n",
    "\n",
    "preds.columns = ['issue_time', 'y_pred']\n",
    "preds.index.name = 'target_time'\n",
    "\n",
    "preds = preds.reset_index().set_index(['issue_time', 'target_time'])\n",
    "preds"
   ]
  },
  {
   "cell_type": "code",
   "execution_count": null,
   "metadata": {},
   "outputs": [],
   "source": []
  },
  {
   "cell_type": "markdown",
   "metadata": {},
   "source": [
    "Still not working by the looks of it...."
   ]
  },
  {
   "cell_type": "code",
   "execution_count": null,
   "metadata": {},
   "outputs": [],
   "source": [
    "y_pred.loc[y_pred.index.get_level_values('issue_time').isin([11, 12, 13, 14, 15, 16])]"
   ]
  },
  {
   "cell_type": "code",
   "execution_count": null,
   "metadata": {},
   "outputs": [],
   "source": []
  },
  {
   "cell_type": "code",
   "execution_count": null,
   "metadata": {},
   "outputs": [],
   "source": []
  }
 ],
 "metadata": {
  "kernelspec": {
   "display_name": "Python 3.8.12 ('sktime-dev')",
   "language": "python",
   "name": "python3"
  },
  "language_info": {
   "codemirror_mode": {
    "name": "ipython",
    "version": 3
   },
   "file_extension": ".py",
   "mimetype": "text/x-python",
   "name": "python",
   "nbconvert_exporter": "python",
   "pygments_lexer": "ipython3",
   "version": "3.8.12"
  },
  "orig_nbformat": 4,
  "vscode": {
   "interpreter": {
    "hash": "e9145ac77f526b29f92167e717129b9fbcf33a276bdc12cb061a32eba5355a71"
   }
  }
 },
 "nbformat": 4,
 "nbformat_minor": 2
}
