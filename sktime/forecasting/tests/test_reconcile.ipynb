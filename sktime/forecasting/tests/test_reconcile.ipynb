{
 "cells": [
  {
   "cell_type": "code",
   "execution_count": null,
   "metadata": {},
   "outputs": [],
   "source": [
    "import numpy as np\n",
    "\n",
    "from sktime.forecasting.base import ForecastingHorizon\n",
    "from sktime.forecasting.exp_smoothing import ExponentialSmoothing\n",
    "from sktime.transformations.hierarchical.aggregate import Aggregator\n",
    "\n",
    "# from sktime.transformations.hierarchical.reconcile import Reconciler\n",
    "from sktime.transformations.hierarchical.reconcile import _get_s_matrix\n",
    "from sktime.utils._testing.hierarchical import _bottom_hier_datagen"
   ]
  },
  {
   "cell_type": "code",
   "execution_count": null,
   "metadata": {},
   "outputs": [],
   "source": [
    "agg = Aggregator(flatten_single_levels=True)\n",
    "\n",
    "y = _bottom_hier_datagen(\n",
    "    no_bottom_nodes=3,\n",
    "    no_levels=1,\n",
    "    random_seed=111,\n",
    ")\n",
    "# add aggregate levels\n",
    "y = agg.fit_transform(y)\n",
    "\n",
    "# forecast all levels\n",
    "fh = ForecastingHorizon([1, 2], is_relative=True)\n",
    "forecaster = ExponentialSmoothing(trend=\"add\", seasonal=\"additive\", sp=12)\n",
    "forecaster.fit(y)"
   ]
  },
  {
   "cell_type": "code",
   "execution_count": null,
   "metadata": {},
   "outputs": [],
   "source": [
    "# fh_resid = ForecastingHorizon(\n",
    "#     y.index.get_level_values(-1).unique(), is_relative=False\n",
    "# )\n",
    "# bug\n",
    "# forecaster.predict_residuals()"
   ]
  },
  {
   "cell_type": "code",
   "execution_count": null,
   "metadata": {},
   "outputs": [],
   "source": [
    "fh = ForecastingHorizon(y.index.get_level_values(-1).unique(), is_relative=False)\n",
    "resid = y - forecaster.predict(fh=fh)\n",
    "resid"
   ]
  },
  {
   "cell_type": "code",
   "execution_count": null,
   "metadata": {},
   "outputs": [],
   "source": [
    "np.arange(resid.index.nlevels).tolist()\n",
    "grp_range = np.arange(resid.index.nlevels - 1).tolist()\n",
    "resid = resid.groupby(level=grp_range).apply(\n",
    "    # lambda x: (x-x.mean())/(x.var()**(1/2))\n",
    "    lambda x: x\n",
    "    - x.mean()\n",
    ")\n",
    "\n",
    "resid"
   ]
  },
  {
   "cell_type": "code",
   "execution_count": null,
   "metadata": {},
   "outputs": [],
   "source": [
    "resid_mat = resid.unstack().transpose()\n",
    "print(resid_mat.mean(axis=0))\n",
    "resid_mat"
   ]
  },
  {
   "cell_type": "code",
   "execution_count": null,
   "metadata": {},
   "outputs": [],
   "source": [
    "cov_mat = resid_mat.transpose().dot(resid_mat) / (len(resid_mat.index) - 1)\n",
    "cov_mat"
   ]
  },
  {
   "cell_type": "code",
   "execution_count": null,
   "metadata": {},
   "outputs": [],
   "source": [
    "resid_mat.cov()"
   ]
  },
  {
   "cell_type": "code",
   "execution_count": null,
   "metadata": {},
   "outputs": [],
   "source": [
    "import pandas as pd\n",
    "from numpy.linalg import inv"
   ]
  },
  {
   "cell_type": "code",
   "execution_count": null,
   "metadata": {},
   "outputs": [],
   "source": [
    "def _get_g_matrix_mint(resid_cov):\n",
    "    \"\"\" \"\"\"\n",
    "    smat = _get_s_matrix(y)\n",
    "\n",
    "    g_wls_str = pd.DataFrame(\n",
    "        np.dot(\n",
    "            inv(np.dot(np.transpose(smat), np.dot(resid_cov, smat))),\n",
    "            np.dot(np.transpose(smat), resid_cov),\n",
    "        )\n",
    "    )\n",
    "    # set indexes of matrix\n",
    "    g_wls_str = g_wls_str.transpose()\n",
    "    g_wls_str = g_wls_str.set_index(smat.index)\n",
    "    g_wls_str.columns = smat.columns\n",
    "    g_wls_str = g_wls_str.transpose()\n",
    "\n",
    "    return g_wls_str"
   ]
  },
  {
   "cell_type": "code",
   "execution_count": null,
   "metadata": {},
   "outputs": [],
   "source": [
    "gmat = _get_g_matrix_mint(cov_mat)\n",
    "gmat"
   ]
  },
  {
   "cell_type": "code",
   "execution_count": null,
   "metadata": {},
   "outputs": [],
   "source": [
    "smat = _get_s_matrix(y)"
   ]
  },
  {
   "cell_type": "code",
   "execution_count": null,
   "metadata": {},
   "outputs": [],
   "source": [
    "fh = ForecastingHorizon([1, 2], is_relative=True)\n",
    "prds = forecaster.predict(fh)\n",
    "prds"
   ]
  },
  {
   "cell_type": "code",
   "execution_count": null,
   "metadata": {},
   "outputs": [],
   "source": [
    "X = prds.groupby(level=-1)\n",
    "# could use X.transform() with np.dot, v. marginally faster in my tests\n",
    "# - loop can use index matching via df.dot() which is probably worth it\n",
    "recon_preds = []\n",
    "for _name, group in X:\n",
    "\n",
    "    # reconcile via SGy\n",
    "    fcst = smat.dot(gmat.dot(group.droplevel(-1)))\n",
    "    # add back in time index\n",
    "    fcst.index = group.index\n",
    "    recon_preds.append(fcst)\n",
    "\n",
    "recon_preds = pd.concat(recon_preds, axis=0)\n",
    "recon_preds = recon_preds.sort_index()\n",
    "recon_preds"
   ]
  },
  {
   "cell_type": "code",
   "execution_count": null,
   "metadata": {},
   "outputs": [],
   "source": [
    "from sktime.forecasting.reconcile import ReconcilerForecaster\n",
    "\n",
    "y"
   ]
  },
  {
   "cell_type": "code",
   "execution_count": null,
   "metadata": {},
   "outputs": [],
   "source": [
    "fh = ForecastingHorizon([1, 2], is_relative=True)\n",
    "forecaster = ExponentialSmoothing(trend=\"add\", seasonal=\"additive\", sp=12)\n",
    "recon_forecaster = ReconcilerForecaster(forecaster)\n",
    "recon_forecaster.fit(y).predict(fh=fh)\n",
    "# recon_forecaster.fit(y)\n",
    "# prds = recon_forecaster.predict(fh)"
   ]
  },
  {
   "cell_type": "code",
   "execution_count": null,
   "metadata": {},
   "outputs": [],
   "source": [
    "fh = ForecastingHorizon([1, 2], is_relative=True)\n",
    "forecaster = ExponentialSmoothing(trend=\"add\", seasonal=\"additive\", sp=12)\n",
    "recon_forecaster = ReconcilerForecaster(forecaster)\n",
    "recon_forecaster.fit_predict(y=y, fh=fh)"
   ]
  },
  {
   "cell_type": "code",
   "execution_count": null,
   "metadata": {},
   "outputs": [],
   "source": [
    "# forecaster._y.reconstruct(forecaster._y)\n",
    "# forecaster.clone()\n",
    "\n",
    "recon_forecaster.g_matrix_"
   ]
  },
  {
   "cell_type": "code",
   "execution_count": null,
   "metadata": {},
   "outputs": [],
   "source": [
    "recon_forecaster.predict(fh=fh)"
   ]
  },
  {
   "cell_type": "code",
   "execution_count": null,
   "metadata": {},
   "outputs": [],
   "source": []
  },
  {
   "cell_type": "code",
   "execution_count": null,
   "metadata": {},
   "outputs": [],
   "source": [
    "forecaster._y_in"
   ]
  },
  {
   "cell_type": "code",
   "execution_count": null,
   "metadata": {},
   "outputs": [],
   "source": []
  }
 ],
 "metadata": {
  "interpreter": {
   "hash": "e9145ac77f526b29f92167e717129b9fbcf33a276bdc12cb061a32eba5355a71"
  },
  "kernelspec": {
   "display_name": "Python 3.8.12 ('sktime-dev')",
   "language": "python",
   "name": "python3"
  },
  "language_info": {
   "codemirror_mode": {
    "name": "ipython",
    "version": 3
   },
   "file_extension": ".py",
   "mimetype": "text/x-python",
   "name": "python",
   "nbconvert_exporter": "python",
   "pygments_lexer": "ipython3",
   "version": "3.8.12"
  },
  "orig_nbformat": 4
 },
 "nbformat": 4,
 "nbformat_minor": 2
}
