{
 "cells": [
  {
   "cell_type": "code",
   "execution_count": null,
   "metadata": {},
   "outputs": [],
   "source": [
    "import pandas as pd\n",
    "import plotly.graph_objects as go\n",
    "import plotly_express as px\n",
    "\n",
    "from sktime.transformations.series.clear_sky import ClearSky"
   ]
  },
  {
   "cell_type": "code",
   "execution_count": null,
   "metadata": {},
   "outputs": [],
   "source": [
    "# downloaded two years of national estimates from here\n",
    "# https://www.solar.sheffield.ac.uk/pvlive/\n",
    "# there's also an API\n",
    "df = (\n",
    "    pd.read_csv(\n",
    "        \"../../../../../Downloads/pvlive/PV_Live Historical Results 2021.csv\",\n",
    "        index_col=[\"gsp_id\", \"datetime_gmt\"],\n",
    "        parse_dates=[\"datetime_gmt\"],\n",
    "    )\n",
    "    .droplevel(0)\n",
    "    .sort_index()\n",
    ")\n",
    "df = df.asfreq(\"30T\")\n",
    "df[\"yday\"] = df.index.dayofyear\n",
    "df[\"tod\"] = df.index.hour + df.index.minute / 60 + df.index.second / 60\n",
    "df[\"generation_pu\"] = df[\"generation_mw\"] / df[\"capacity_mwp\"]\n",
    "\n",
    "df.info()"
   ]
  },
  {
   "cell_type": "code",
   "execution_count": null,
   "metadata": {},
   "outputs": [],
   "source": []
  },
  {
   "cell_type": "code",
   "execution_count": null,
   "metadata": {},
   "outputs": [],
   "source": [
    "# takes ~1-2m\n",
    "cs_model = ClearSky()\n",
    "cs_model.fit(df[\"generation_pu\"])"
   ]
  },
  {
   "cell_type": "code",
   "execution_count": null,
   "metadata": {},
   "outputs": [],
   "source": [
    "fig = go.Figure(\n",
    "    data=go.Heatmap(\n",
    "        x=cs_model.clearskypower.index.get_level_values(0),\n",
    "        y=cs_model.clearskypower.index.get_level_values(1),\n",
    "        z=cs_model.clearskypower,\n",
    "        type=\"heatmap\",\n",
    "        colorscale=\"Viridis\",\n",
    "    )\n",
    ")\n",
    "fig.show()"
   ]
  },
  {
   "cell_type": "code",
   "execution_count": null,
   "metadata": {},
   "outputs": [],
   "source": []
  },
  {
   "cell_type": "code",
   "execution_count": null,
   "metadata": {},
   "outputs": [],
   "source": [
    "cs_model = ClearSky()\n",
    "cs_model.fit(df.loc[df[\"yday\"] < 100, \"generation_pu\"])\n",
    "\n",
    "fig = go.Figure(\n",
    "    data=go.Heatmap(\n",
    "        x=cs_model.clearskypower.index.get_level_values(0),\n",
    "        y=cs_model.clearskypower.index.get_level_values(1),\n",
    "        z=cs_model.clearskypower,\n",
    "        type=\"heatmap\",\n",
    "        colorscale=\"Viridis\",\n",
    "    )\n",
    ")\n",
    "fig.show()"
   ]
  },
  {
   "cell_type": "code",
   "execution_count": null,
   "metadata": {},
   "outputs": [],
   "source": []
  },
  {
   "cell_type": "code",
   "execution_count": null,
   "metadata": {},
   "outputs": [],
   "source": [
    "cs_model = ClearSky()\n",
    "cs_model.fit(df.loc[df[\"yday\"] < 200, \"generation_pu\"])\n",
    "\n",
    "fig = go.Figure(\n",
    "    data=go.Heatmap(\n",
    "        x=cs_model.clearskypower.index.get_level_values(0),\n",
    "        y=cs_model.clearskypower.index.get_level_values(1),\n",
    "        z=cs_model.clearskypower,\n",
    "        type=\"heatmap\",\n",
    "        colorscale=\"Viridis\",\n",
    "    )\n",
    ")\n",
    "fig.show()"
   ]
  },
  {
   "cell_type": "code",
   "execution_count": null,
   "metadata": {},
   "outputs": [],
   "source": []
  },
  {
   "cell_type": "code",
   "execution_count": null,
   "metadata": {},
   "outputs": [],
   "source": [
    "cs_model = ClearSky()\n",
    "cs_model.fit(df.loc[df[\"yday\"] < 300, \"generation_pu\"])\n",
    "\n",
    "fig = go.Figure(\n",
    "    data=go.Heatmap(\n",
    "        x=cs_model.clearskypower.index.get_level_values(0),\n",
    "        y=cs_model.clearskypower.index.get_level_values(1),\n",
    "        z=cs_model.clearskypower,\n",
    "        type=\"heatmap\",\n",
    "        colorscale=\"Viridis\",\n",
    "    )\n",
    ")\n",
    "fig.show()"
   ]
  },
  {
   "cell_type": "code",
   "execution_count": null,
   "metadata": {},
   "outputs": [],
   "source": []
  },
  {
   "cell_type": "code",
   "execution_count": null,
   "metadata": {},
   "outputs": [],
   "source": [
    "cs_model = ClearSky()\n",
    "cs_model.fit(df.loc[df[\"yday\"] < 350, \"generation_pu\"])\n",
    "\n",
    "fig = go.Figure(\n",
    "    data=go.Heatmap(\n",
    "        x=cs_model.clearskypower.index.get_level_values(0),\n",
    "        y=cs_model.clearskypower.index.get_level_values(1),\n",
    "        z=cs_model.clearskypower,\n",
    "        type=\"heatmap\",\n",
    "        colorscale=\"Viridis\",\n",
    "    )\n",
    ")\n",
    "fig.show()"
   ]
  },
  {
   "cell_type": "code",
   "execution_count": null,
   "metadata": {},
   "outputs": [],
   "source": []
  },
  {
   "cell_type": "code",
   "execution_count": null,
   "metadata": {},
   "outputs": [],
   "source": [
    "cs_model = ClearSky(min_thresh=0.15)\n",
    "# cs_model = ClearSky()\n",
    "cs_model.fit(df[\"generation_pu\"])\n",
    "cs_model.clearskypower"
   ]
  },
  {
   "cell_type": "code",
   "execution_count": null,
   "metadata": {},
   "outputs": [],
   "source": [
    "fig = px.line(\n",
    "    data_frame=cs_model.clearskypower.rename(\"value\").reset_index(),\n",
    "    x=\"tod\",\n",
    "    y=\"value\",\n",
    "    line_group=\"yday\",\n",
    "    title=\"Daily trajectories of clear sky power\",\n",
    ")\n",
    "\n",
    "fig.update_yaxes(matches=None)\n",
    "fig.update_traces(line={\"color\": \"grey\"}, opacity=0.2)\n",
    "fig.update_layout(height=550, width=1500)\n",
    "fig.show()"
   ]
  },
  {
   "cell_type": "code",
   "execution_count": null,
   "metadata": {},
   "outputs": [],
   "source": [
    "df[\"generation_csi\"] = cs_model.transform(df[\"generation_pu\"])\n",
    "df[\"generation_inv\"] = cs_model.inverse_transform(df[\"generation_csi\"])"
   ]
  },
  {
   "cell_type": "code",
   "execution_count": null,
   "metadata": {},
   "outputs": [],
   "source": [
    "if cs_model.min_thresh is None:\n",
    "    from pandas.testing import assert_series_equal\n",
    "\n",
    "    assert_series_equal(\n",
    "        df[\"generation_pu\"], df[\"generation_inv\"].rename(\"generation_pu\")\n",
    "    )\n",
    "\n",
    "df[df[\"generation_pu\"] != df[\"generation_inv\"]][[\"generation_pu\", \"generation_inv\"]]"
   ]
  },
  {
   "cell_type": "code",
   "execution_count": null,
   "metadata": {},
   "outputs": [],
   "source": []
  },
  {
   "cell_type": "code",
   "execution_count": null,
   "metadata": {},
   "outputs": [],
   "source": [
    "df_plot = df[\n",
    "    [\n",
    "        \"generation_csi\",\n",
    "        \"generation_pu\",\n",
    "        \"generation_mw\",\n",
    "        \"generation_inv\",\n",
    "        \"tod\",\n",
    "        \"yday\",\n",
    "    ]\n",
    "].melt(id_vars=[\"tod\", \"yday\"], ignore_index=False)\n",
    "\n",
    "fig = px.line(\n",
    "    data_frame=df_plot,\n",
    "    x=\"tod\",\n",
    "    y=\"value\",\n",
    "    line_group=\"yday\",\n",
    "    facet_col=\"variable\",\n",
    "    title=\"Daily trajectories of solar generation\",\n",
    ")\n",
    "\n",
    "fig.update_yaxes(matches=None)\n",
    "fig.update_traces(line={\"color\": \"grey\"}, opacity=0.2)\n",
    "fig.update_layout(height=550, width=1500)\n",
    "fig.show()"
   ]
  },
  {
   "cell_type": "code",
   "execution_count": null,
   "metadata": {},
   "outputs": [],
   "source": []
  },
  {
   "cell_type": "code",
   "execution_count": null,
   "metadata": {},
   "outputs": [],
   "source": [
    "df_plot = df[\n",
    "    [\n",
    "        \"generation_csi\",\n",
    "        \"generation_pu\",\n",
    "        \"generation_mw\",\n",
    "        \"generation_inv\",\n",
    "        \"tod\",\n",
    "        \"yday\",\n",
    "    ]\n",
    "].melt(id_vars=[\"tod\", \"yday\"], ignore_index=False)\n",
    "\n",
    "fig = px.box(\n",
    "    data_frame=df_plot.loc[df_plot[\"value\"] > 0],\n",
    "    x=\"tod\",\n",
    "    y=\"value\",\n",
    "    facet_col=\"variable\",\n",
    "    title=\"boxplots showing the changing distribution of solar generation > 0\",\n",
    ")\n",
    "\n",
    "fig.update_yaxes(matches=None)\n",
    "fig.update_layout(height=550, width=1500)\n",
    "fig.show()"
   ]
  },
  {
   "cell_type": "code",
   "execution_count": null,
   "metadata": {},
   "outputs": [],
   "source": []
  },
  {
   "cell_type": "code",
   "execution_count": null,
   "metadata": {},
   "outputs": [],
   "source": [
    "# why is there multivariate tests going on here?\n",
    "from sktime.utils.estimator_checks import check_estimator\n",
    "\n",
    "check_estimator(ClearSky)"
   ]
  },
  {
   "cell_type": "code",
   "execution_count": null,
   "metadata": {},
   "outputs": [],
   "source": []
  }
 ],
 "metadata": {
  "kernelspec": {
   "display_name": "Python 3.8.12 ('sktime-dev')",
   "language": "python",
   "name": "python3"
  },
  "language_info": {
   "codemirror_mode": {
    "name": "ipython",
    "version": 3
   },
   "file_extension": ".py",
   "mimetype": "text/x-python",
   "name": "python",
   "nbconvert_exporter": "python",
   "pygments_lexer": "ipython3",
   "version": "3.8.12"
  },
  "orig_nbformat": 4,
  "vscode": {
   "interpreter": {
    "hash": "e9145ac77f526b29f92167e717129b9fbcf33a276bdc12cb061a32eba5355a71"
   }
  }
 },
 "nbformat": 4,
 "nbformat_minor": 2
}
