{
 "cells": [
  {
   "cell_type": "code",
   "execution_count": null,
   "metadata": {},
   "outputs": [],
   "source": [
    "# https://doi.org/10.1016/j.ijforecast.2008.07.004\n",
    "# https://github.com/robjhyndman/reconciliation_review_talk/blob/main/10years_reconciliation.pdf\n",
    "# https://otexts.com/fpp3/single-level.html\n",
    "\n",
    "\n",
    "import pandas as pd\n",
    "\n",
    "from sktime.forecasting.base import ForecastingHorizon\n",
    "from sktime.forecasting.exp_smoothing import ExponentialSmoothing\n",
    "from sktime.transformations.hierarchical.aggregate import Aggregator\n",
    "from sktime.transformations.hierarchical.reconcile import Reconciler\n",
    "from sktime.utils._testing.hierarchical import _bottom_hier_datagen\n",
    "\n",
    "# get all the methods\n",
    "\n",
    "METHOD_LIST = Reconciler.METHOD_LIST"
   ]
  },
  {
   "cell_type": "code",
   "execution_count": null,
   "metadata": {},
   "outputs": [],
   "source": [
    "agg = Aggregator(flatten_single_levels=True)\n",
    "\n",
    "X = _bottom_hier_datagen(\n",
    "    no_bottom_nodes=3,\n",
    "    no_levels=1,\n",
    ")\n",
    "# add aggregate levels\n",
    "X = agg.fit_transform(X)\n",
    "\n",
    "# forecast all levels\n",
    "fh = ForecastingHorizon([1, 2], is_relative=True)\n",
    "forecaster = ExponentialSmoothing(trend=\"add\", seasonal=\"additive\", sp=12)\n",
    "prds = forecaster.fit(X).predict(fh)"
   ]
  },
  {
   "cell_type": "code",
   "execution_count": null,
   "metadata": {},
   "outputs": [],
   "source": [
    "prds"
   ]
  },
  {
   "cell_type": "code",
   "execution_count": null,
   "metadata": {},
   "outputs": [],
   "source": [
    "prds[\"bu\"] = Aggregator().fit_transform(prds)\n",
    "prds"
   ]
  },
  {
   "cell_type": "code",
   "execution_count": null,
   "metadata": {},
   "outputs": [],
   "source": [
    "tmp = agg.inverse_transform(prds[[\"passengers\"]])\n",
    "tmp[\"props\"] = tmp / tmp.groupby(level=-1).transform(sum)\n",
    "tmp"
   ]
  },
  {
   "cell_type": "code",
   "execution_count": null,
   "metadata": {},
   "outputs": [],
   "source": [
    "tot = prds.loc[\n",
    "    prds.index.get_level_values(level=-2).isin([\"__total\"]), [\"passengers\"]\n",
    "].copy()\n",
    "tot.columns = [\"total\"]\n",
    "tot"
   ]
  },
  {
   "cell_type": "code",
   "execution_count": null,
   "metadata": {},
   "outputs": [],
   "source": [
    "tmp_drop = tmp.droplevel(0)\n",
    "tmp_noind = pd.concat(\n",
    "    [tmp.droplevel(0), tot.droplevel(0).reindex(tmp_drop.index)], axis=1\n",
    ")\n",
    "tmp_noind.index = tmp.index\n",
    "tmp = tmp_noind\n",
    "tmp"
   ]
  },
  {
   "cell_type": "code",
   "execution_count": null,
   "metadata": {},
   "outputs": [],
   "source": [
    "tmp[\"recon\"] = tmp[\"props\"] * tmp[\"total\"]\n",
    "tmp"
   ]
  },
  {
   "cell_type": "code",
   "execution_count": null,
   "metadata": {},
   "outputs": [],
   "source": [
    "prds[\"td_fcst\"] = agg.fit_transform(tmp[[\"recon\"]])\n",
    "prds"
   ]
  }
 ],
 "metadata": {
  "interpreter": {
   "hash": "c1eb1c2818a749c31c67be5c4cb66d4609f775387358a3054790d55ee191d060"
  },
  "kernelspec": {
   "display_name": "Python 3.8.12 ('sktime-dev')",
   "language": "python",
   "name": "python3"
  },
  "language_info": {
   "codemirror_mode": {
    "name": "ipython",
    "version": 3
   },
   "file_extension": ".py",
   "mimetype": "text/x-python",
   "name": "python",
   "nbconvert_exporter": "python",
   "pygments_lexer": "ipython3",
   "version": "3.8.12"
  },
  "orig_nbformat": 4
 },
 "nbformat": 4,
 "nbformat_minor": 2
}
